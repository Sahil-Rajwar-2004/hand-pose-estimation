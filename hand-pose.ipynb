{
 "cells": [
  {
   "cell_type": "code",
   "execution_count": 1,
   "id": "099727bd-6c4c-4652-84ee-fe7adac1c615",
   "metadata": {},
   "outputs": [],
   "source": [
    "import mediapipe as mp\n",
    "import cv2\n",
    "import numpy as np\n",
    "import os\n",
    "import uuid"
   ]
  },
  {
   "cell_type": "code",
   "execution_count": 2,
   "id": "f3443208-ea8a-4c74-aad3-935b24cceed3",
   "metadata": {},
   "outputs": [],
   "source": [
    "mp_draws = mp.solutions.drawing_utils\n",
    "mp_hands = mp.solutions.hands"
   ]
  },
  {
   "cell_type": "markdown",
   "id": "cf2ea338-b4e9-453f-8563-3a0c5b86f872",
   "metadata": {},
   "source": [
    "<img src=\"https://i.imgur.com/qpRACer.png\">"
   ]
  },
  {
   "cell_type": "code",
   "execution_count": 3,
   "id": "5f550537-3e3d-4fa3-8a00-d327373d9754",
   "metadata": {},
   "outputs": [
    {
     "name": "stdout",
     "output_type": "stream",
     "text": [
      "file already exist!\n"
     ]
    }
   ],
   "source": [
    "try:\n",
    "    os.mkdir(\"output\")\n",
    "    print(\"done!\")\n",
    "except FileExistsError:\n",
    "    print(\"file already exist!\")\n",
    "\n",
    "cap = cv2.VideoCapture(0)\n",
    "with mp_hands.Hands(min_detection_confidence=0.5,min_tracking_confidence=0.5) as hands:\n",
    "    while cap.isOpened():\n",
    "        ret,frame = cap.read()\n",
    "\n",
    "        img = cv2.cvtColor(frame,cv2.COLOR_BGR2RGB)\n",
    "        img = cv2.flip(img,1)\n",
    "        \n",
    "        img.flags.writeable = False\n",
    "        results = hands.process(img)\n",
    "        img.flags.writeable = True\n",
    "        img = cv2.cvtColor(img,cv2.COLOR_RGB2BGR)\n",
    "        # print(results.multi_hand_landmarks)\n",
    "        if results.multi_hand_landmarks:\n",
    "            for num,hand in enumerate(results.multi_hand_landmarks):\n",
    "                mp_draws.draw_landmarks(img,hand,mp_hands.HAND_CONNECTIONS,\n",
    "                                       mp_draws.DrawingSpec(color = (121,22,76),thickness = 2,circle_radius = 4),\n",
    "                                       mp_draws.DrawingSpec(color = (250,44,250),thickness = 2,circle_radius = 2))\n",
    "\n",
    "        cv2.imwrite(os.path.join(\"output\",f\"{uuid.uuid1()}.png\"),img)\n",
    "        \n",
    "        cv2.imshow(\"Live\",img)\n",
    "        if cv2.waitKey(10) & 0xFF == ord(\"q\"):\n",
    "            break\n",
    "    \n",
    "cap.release()\n",
    "cv2.destroyAllWindows()"
   ]
  },
  {
   "cell_type": "code",
   "execution_count": 11,
   "id": "ea6ba54c-c3ef-4f7d-8360-11cbd0b7c5dc",
   "metadata": {},
   "outputs": [
    {
     "data": {
      "text/plain": [
       "['.ipynb_checkpoints', 'hand-pose.ipynb', 'output', 'output.avi']"
      ]
     },
     "execution_count": 11,
     "metadata": {},
     "output_type": "execute_result"
    }
   ],
   "source": [
    "dirs = os.listdir()\n",
    "dirs"
   ]
  },
  {
   "cell_type": "code",
   "execution_count": null,
   "id": "f33a0b8e-f1a0-4a0a-b5aa-a525e875ae76",
   "metadata": {},
   "outputs": [],
   "source": []
  },
  {
   "cell_type": "code",
   "execution_count": null,
   "id": "14e9df7b-95a6-42be-ad20-e367d82a3b0d",
   "metadata": {},
   "outputs": [],
   "source": []
  }
 ],
 "metadata": {
  "kernelspec": {
   "display_name": "Python 3 (ipykernel)",
   "language": "python",
   "name": "python3"
  },
  "language_info": {
   "codemirror_mode": {
    "name": "ipython",
    "version": 3
   },
   "file_extension": ".py",
   "mimetype": "text/x-python",
   "name": "python",
   "nbconvert_exporter": "python",
   "pygments_lexer": "ipython3",
   "version": "3.11.4"
  }
 },
 "nbformat": 4,
 "nbformat_minor": 5
}
